{
  "nbformat": 4,
  "nbformat_minor": 0,
  "metadata": {
    "colab": {
      "private_outputs": true,
      "provenance": []
    },
    "kernelspec": {
      "name": "python3",
      "display_name": "Python 3"
    },
    "language_info": {
      "name": "python"
    }
  },
  "cells": [
    {
      "cell_type": "code",
      "execution_count": null,
      "metadata": {
        "id": "aVvU5BHAGRF8"
      },
      "outputs": [],
      "source": [
        "import pandas as pd\n",
        "import matplotlib.pyplot as plt\n",
        "import numpy as np\n",
        "import seaborn as sns\n",
        "import tensorflow as tf"
      ]
    },
    {
      "cell_type": "code",
      "source": [
        "data = pd.read_csv(\"/content/customer_segmentation_data.csv\")"
      ],
      "metadata": {
        "id": "LaYSxdEFHofS"
      },
      "execution_count": null,
      "outputs": []
    },
    {
      "cell_type": "code",
      "source": [
        "data.head()"
      ],
      "metadata": {
        "id": "FMc3Rh4BIJhC"
      },
      "execution_count": null,
      "outputs": []
    },
    {
      "cell_type": "code",
      "source": [
        "data.info()"
      ],
      "metadata": {
        "id": "zynHtrnvIL6Q"
      },
      "execution_count": null,
      "outputs": []
    },
    {
      "cell_type": "code",
      "source": [
        "data.shape"
      ],
      "metadata": {
        "id": "NQj02ipAIUhG"
      },
      "execution_count": null,
      "outputs": []
    },
    {
      "cell_type": "code",
      "source": [
        "data.describe()"
      ],
      "metadata": {
        "id": "TvQAgM_tIePZ"
      },
      "execution_count": null,
      "outputs": []
    },
    {
      "cell_type": "code",
      "source": [
        "data.isnull().sum()"
      ],
      "metadata": {
        "id": "fanGF-mkIgxg"
      },
      "execution_count": null,
      "outputs": []
    },
    {
      "cell_type": "code",
      "source": [
        "data.columns"
      ],
      "metadata": {
        "id": "mBKRREAAIljQ"
      },
      "execution_count": null,
      "outputs": []
    },
    {
      "cell_type": "code",
      "source": [
        "data['gender'].unique()"
      ],
      "metadata": {
        "id": "ojD5aa8EMqtd"
      },
      "execution_count": null,
      "outputs": []
    },
    {
      "cell_type": "code",
      "source": [
        "data['preferred_category'].unique()"
      ],
      "metadata": {
        "id": "YvR2sWQPMviD"
      },
      "execution_count": null,
      "outputs": []
    },
    {
      "cell_type": "code",
      "source": [
        "print(\"Total categories in gender:\", data['gender'].value_counts(), \"\\n\")\n",
        "print(\"Total categories in Prefered category:\", data['preferred_category'].value_counts())\n"
      ],
      "metadata": {
        "id": "crCprHzHJzR0"
      },
      "execution_count": null,
      "outputs": []
    },
    {
      "cell_type": "code",
      "source": [
        "data = data.drop(['id'],axis= 1)"
      ],
      "metadata": {
        "id": "OgKfLcJ7MaIy"
      },
      "execution_count": null,
      "outputs": []
    },
    {
      "cell_type": "markdown",
      "source": [
        "distribution plot for age, income, spending_score"
      ],
      "metadata": {
        "id": "lsOuvFSWZ_tL"
      }
    },
    {
      "cell_type": "code",
      "source": [
        "plt.figure(figsize=(15,5))\n",
        "\n",
        "fig, axes = plt.subplots(1,3, figsize=(16,4))\n",
        "\n",
        "# plot fo age:\n",
        "sns.histplot(data['age'], kde = True, color ='b', bins =30, ax= axes[0])\n",
        "axes[0].set_title('Age Distribution')\n",
        "axes[0].set_xlabel('Age')\n",
        "axes[0].set_ylabel('count')\n",
        "\n",
        "# plot for income\n",
        "sns.histplot(data['income'], kde = True, color ='b', bins =20, ax= axes[1])\n",
        "axes[1].set_title('Income Distribution')\n",
        "axes[1].set_xlabel('Income')\n",
        "axes[1].set_ylabel('count')\n",
        "\n",
        "#plot for spending score\n",
        "sns.histplot(data['spending_score'], kde = True, color ='b', bins =20, ax= axes[2])\n",
        "axes[2].set_title('Spending score Distribution')\n",
        "axes[2].set_xlabel('Spending score')\n",
        "axes[2].set_ylabel('count')\n",
        "\n",
        "plt.show()"
      ],
      "metadata": {
        "id": "XaeusJU_Z08p"
      },
      "execution_count": null,
      "outputs": []
    },
    {
      "cell_type": "code",
      "source": [
        "gender_counts = data['gender'].value_counts()\n",
        "\n",
        "plt.figure(1, figsize=(15,5))\n",
        "sns.countplot(y= 'gender', hue ='gender', data= data, palette = 'Set2')\n",
        "for i in data['gender'].unique():\n",
        "  count = gender_counts[i]\n",
        "  percentage = (count/data.shape[0]) * 100\n",
        "  plt.text(count - 12, i, f'{percentage: .1f}%', va='top', color = 'white')\n",
        "\n",
        "plt.grid(False)\n",
        "plt.show()"
      ],
      "metadata": {
        "id": "K91X_jEkaVub"
      },
      "execution_count": null,
      "outputs": []
    },
    {
      "cell_type": "code",
      "source": [
        "plt.figure(1, figsize=(15,6))\n",
        "n=0\n",
        "for cols in ['age', 'income', 'spending_score']:\n",
        "  n += 1\n",
        "  plt.subplot(1,3,n)\n",
        "  sns.set(style = 'whitegrid')\n",
        "  plt.subplots_adjust(hspace=0.5, wspace=0.5)\n",
        "  sns.violinplot(x= cols, y= 'gender',data=data,hue = 'gender')\n",
        "  plt.ylabel('Gender' if n==1 else '')\n",
        "  plt.title('Violin Plot')\n",
        "plt.show()"
      ],
      "metadata": {
        "id": "St5ntFDza5g8"
      },
      "execution_count": null,
      "outputs": []
    },
    {
      "cell_type": "code",
      "source": [
        "age_18_25 = data.age[(data.age >= 18) & (data.age <= 25)]\n",
        "age_26_35 = data.age[(data.age >= 26) & (data.age <= 35)]\n",
        "age_36_45 = data.age[(data.age >= 36) & (data.age <= 45)]\n",
        "age_46_55 = data.age[(data.age >= 46) & (data.age <= 55)]\n",
        "age_gt_55 = data.age[data.age >=56]"
      ],
      "metadata": {
        "id": "rlyzIRqPbhtr"
      },
      "execution_count": null,
      "outputs": []
    },
    {
      "cell_type": "code",
      "source": [
        "agex= ['18-25', '26-35', '36-45','46-55','55+']\n",
        "agey = [len(age_18_25.values), len(age_26_35.values), len(age_36_45.values), len(age_46_55.values), len(age_gt_55.values)]"
      ],
      "metadata": {
        "id": "bYw832Olki_0"
      },
      "execution_count": null,
      "outputs": []
    },
    {
      "cell_type": "code",
      "source": [
        "plt.figure(figsize = (10,6))\n",
        "sns.barplot(x=agex, y=agey, palette = 'mako')\n",
        "plt.title('Number of Customer and Ages')\n",
        "plt.xlabel('Age')\n",
        "plt.ylabel('Number of Customer')\n",
        "plt.show()"
      ],
      "metadata": {
        "id": "2RpkI__dkqM1"
      },
      "execution_count": null,
      "outputs": []
    },
    {
      "cell_type": "code",
      "source": [
        "sns.relplot(x=\"income\", y = \"spending_score\", data =data)"
      ],
      "metadata": {
        "id": "59is-dzblE2X"
      },
      "execution_count": null,
      "outputs": []
    },
    {
      "cell_type": "code",
      "source": [
        "data.head()"
      ],
      "metadata": {
        "id": "RDeS3vygCT4F"
      },
      "execution_count": null,
      "outputs": []
    },
    {
      "cell_type": "code",
      "source": [
        "data =pd.get_dummies(data, columns =['gender'], dtype = int)"
      ],
      "metadata": {
        "id": "EIK_R-qrCJ4u"
      },
      "execution_count": null,
      "outputs": []
    },
    {
      "cell_type": "code",
      "source": [
        "data.head()"
      ],
      "metadata": {
        "id": "S8676y6bFAad"
      },
      "execution_count": null,
      "outputs": []
    },
    {
      "cell_type": "code",
      "source": [
        "data = data.drop(['preferred_category'], axis=1)"
      ],
      "metadata": {
        "id": "MCxD_d7CHQL2"
      },
      "execution_count": null,
      "outputs": []
    },
    {
      "cell_type": "code",
      "source": [
        "data.head()"
      ],
      "metadata": {
        "id": "4TJx6DECHfDL"
      },
      "execution_count": null,
      "outputs": []
    },
    {
      "cell_type": "code",
      "source": [
        "# scale the featuers\n",
        "from sklearn.preprocessing import StandardScaler\n",
        "scaler =StandardScaler()\n",
        "data_scaled = scaler.fit_transform(data)"
      ],
      "metadata": {
        "id": "ZYlQwm_UF-HZ"
      },
      "execution_count": null,
      "outputs": []
    },
    {
      "cell_type": "code",
      "source": [
        "from sklearn.cluster import KMeans"
      ],
      "metadata": {
        "id": "oNbsgWY1LFPZ"
      },
      "execution_count": null,
      "outputs": []
    },
    {
      "cell_type": "code",
      "source": [
        "# using elbow method to find the optimal numberof clusters\n",
        "wcss = []\n",
        "for i in range(1,11):\n",
        "  kmeans = KMeans(n_clusters=i, init='k-means++', max_iter = 300, n_init=10, random_state = 42)\n",
        "  kmeans.fit(data_scaled)\n",
        "  wcss.append(kmeans.inertia_)\n"
      ],
      "metadata": {
        "id": "oLDTVamLG0Ds"
      },
      "execution_count": null,
      "outputs": []
    },
    {
      "cell_type": "code",
      "source": [
        "# plotting the elbow curve\n",
        "plt.figure(figsize=(10,6))\n",
        "plt.plot(range(1,11),wcss, marker = '8', color = 'blue')\n",
        "plt.title('The Elbow Curve')\n",
        "plt.xlabel('Num of clusters')\n",
        "plt.ylabel('WCSS')\n",
        "plt.show()"
      ],
      "metadata": {
        "id": "S3Xx981cL2kU"
      },
      "execution_count": null,
      "outputs": []
    },
    {
      "cell_type": "code",
      "source": [
        "optimal_clusters = 4\n",
        "kmeans = KMeans(n_clusters=optimal_clusters, init='k-means++', max_iter = 300, n_init=10, random_state = 42)\n",
        "data['cluster'] = kmeans.fit_predict(data_scaled)\n",
        "\n",
        "print(data.head())"
      ],
      "metadata": {
        "id": "T6eTvoplGpu3"
      },
      "execution_count": null,
      "outputs": []
    },
    {
      "cell_type": "code",
      "source": [
        "# plotting the clusters based on income and spending_score\n",
        "\n",
        "plt.figure(figsize=(10,6))\n",
        "plt.scatter(data[data['cluster']==0]['income'], data[data['cluster']==0]['spending_score'],s= 100, c='red', label='Cluster 1')\n",
        "plt.scatter(data[data['cluster']==1]['income'], data[data['cluster']==1]['spending_score'],s= 100, c='blue', label='Cluster 2')\n",
        "plt.scatter(data[data['cluster']==2]['income'], data[data['cluster']==2]['spending_score'],s= 100, c='green', label='Cluster 3')\n",
        "plt.scatter(data[data['cluster']== 3]['income'], data[data['cluster']==3]['spending_score'],s= 100, c='cyan', label='Cluster 4')\n",
        "plt.scatter(kmeans.cluster_centers_[:,1], kmeans.cluster_centers_[:,2], s= 300, c='yellow', label='Centroids')\n",
        "\n",
        "plt.title('Clusters based on Income and Spending Score')\n",
        "plt.xlabel('Income')\n",
        "plt.ylabel('Spending Score')\n",
        "plt.legend()\n",
        "plt.show()"
      ],
      "metadata": {
        "id": "-D6YocT2N-NZ"
      },
      "execution_count": null,
      "outputs": []
    },
    {
      "cell_type": "code",
      "source": [
        "cluster_summary = data.groupby('cluster').mean()\n",
        "print(cluster_summary)"
      ],
      "metadata": {
        "id": "CsU8krfwN-J6"
      },
      "execution_count": null,
      "outputs": []
    }
  ]
}