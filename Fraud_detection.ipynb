{
  "nbformat": 4,
  "nbformat_minor": 0,
  "metadata": {
    "colab": {
      "private_outputs": true,
      "provenance": []
    },
    "kernelspec": {
      "name": "python3",
      "display_name": "Python 3"
    },
    "language_info": {
      "name": "python"
    }
  },
  "cells": [
    {
      "cell_type": "code",
      "execution_count": null,
      "metadata": {
        "id": "uNSKs8dUmg0m"
      },
      "outputs": [],
      "source": [
        "import pandas as pd\n",
        "import matplotlib.pyplot as plt\n",
        "import seaborn as sns\n",
        "import numpy as np\n",
        "import warnings\n",
        "warnings.filterwarnings('ignore')"
      ]
    },
    {
      "cell_type": "code",
      "source": [
        "df = pd.read_csv(\"/content/fraud_data.csv\")\n",
        "df.head(10)"
      ],
      "metadata": {
        "id": "stSIRclcIFeT"
      },
      "execution_count": null,
      "outputs": []
    },
    {
      "cell_type": "code",
      "source": [
        "df.shape"
      ],
      "metadata": {
        "id": "L99YYSTgNXH1"
      },
      "execution_count": null,
      "outputs": []
    },
    {
      "cell_type": "code",
      "source": [
        "df.info()"
      ],
      "metadata": {
        "id": "7h2oNnR2w3w-"
      },
      "execution_count": null,
      "outputs": []
    },
    {
      "cell_type": "code",
      "source": [
        "df.isnull().sum()"
      ],
      "metadata": {
        "id": "kD35AXwMw6rE"
      },
      "execution_count": null,
      "outputs": []
    },
    {
      "cell_type": "code",
      "source": [
        "df.describe()"
      ],
      "metadata": {
        "id": "6sgsPfnLxCPN"
      },
      "execution_count": null,
      "outputs": []
    },
    {
      "cell_type": "code",
      "source": [
        "df.dropna(inplace = True)"
      ],
      "metadata": {
        "id": "92i3GKcnxH6P"
      },
      "execution_count": null,
      "outputs": []
    },
    {
      "cell_type": "code",
      "source": [
        "df.columns"
      ],
      "metadata": {
        "id": "5RfXSV1kxNdw"
      },
      "execution_count": null,
      "outputs": []
    },
    {
      "cell_type": "code",
      "source": [
        "#outlier detection\n",
        "for i in df.columns:\n",
        "  if((df[i].dtype == 'int64') or (df[i].dtype == 'float64')):\n",
        "    sns.boxplot(df[i])\n",
        "    plt.xlabel(i)\n",
        "    plt.ylabel('count')\n",
        "    plt.show()"
      ],
      "metadata": {
        "id": "sGTFMwUPxUWN"
      },
      "execution_count": null,
      "outputs": []
    },
    {
      "cell_type": "code",
      "source": [
        "df.columns"
      ],
      "metadata": {
        "id": "mPBmsHX_0ahz"
      },
      "execution_count": null,
      "outputs": []
    },
    {
      "cell_type": "code",
      "source": [
        "df = df.drop(columns = [\"trans_date_trans_time\", \"trans_num\",\"dob\", \"city\"])\n",
        "df.head(10)"
      ],
      "metadata": {
        "id": "WmbD2vT5x293"
      },
      "execution_count": null,
      "outputs": []
    },
    {
      "cell_type": "code",
      "source": [
        "df.info()"
      ],
      "metadata": {
        "id": "orqnYs1z4h1T"
      },
      "execution_count": null,
      "outputs": []
    },
    {
      "cell_type": "code",
      "source": [
        "from sklearn.preprocessing import StandardScaler"
      ],
      "metadata": {
        "id": "r79T_N1u1iAc"
      },
      "execution_count": null,
      "outputs": []
    },
    {
      "cell_type": "code",
      "source": [
        "from sklearn.model_selection import train_test_split\n",
        "from sklearn.linear_model import LogisticRegression\n",
        "from sklearn.tree import DecisionTreeClassifier\n",
        "from sklearn.metrics import accuracy_score, confusion_matrix, classification_report"
      ],
      "metadata": {
        "id": "ZAuwkgOg6Rps"
      },
      "execution_count": null,
      "outputs": []
    },
    {
      "cell_type": "code",
      "source": [
        "x = df.drop(\"is_fraud\", axis =1)\n",
        "y = df['is_fraud']"
      ],
      "metadata": {
        "id": "wlxplkA962vl"
      },
      "execution_count": null,
      "outputs": []
    },
    {
      "cell_type": "code",
      "source": [
        "cat_cols = ['merchant',\"category\",\"state\",\"job\"]\n",
        "num_cols = ['amt',\"lat\",\"long\",\"city_pop\",\"merch_lat\",\"merch_long\"]"
      ],
      "metadata": {
        "id": "mlhSfIDK4eYj"
      },
      "execution_count": null,
      "outputs": []
    },
    {
      "cell_type": "code",
      "source": [
        "x_encoded = pd.get_dummies(x, columns = cat_cols , drop_first = True)"
      ],
      "metadata": {
        "id": "V2pzdlkQ6CKI"
      },
      "execution_count": null,
      "outputs": []
    },
    {
      "cell_type": "code",
      "source": [
        "scaler = StandardScaler()\n",
        "x_encoded[num_cols]= scaler.fit_transform(x_encoded[num_cols])"
      ],
      "metadata": {
        "id": "kagpZhXx7ORt"
      },
      "execution_count": null,
      "outputs": []
    },
    {
      "cell_type": "code",
      "source": [
        "x_train, x_test, y_train, y_test = train_test_split(x_encoded, y, test_size=0.3, random_state =42)\n"
      ],
      "metadata": {
        "id": "PTi0sux37gRa"
      },
      "execution_count": null,
      "outputs": []
    },
    {
      "cell_type": "code",
      "source": [
        "#Train Logistic Regression model\n",
        "logistic_model = LogisticRegression()\n",
        "logistic_model.fit(x_train, y_train)"
      ],
      "metadata": {
        "id": "hXoCpc0f-k7g"
      },
      "execution_count": null,
      "outputs": []
    },
    {
      "cell_type": "code",
      "source": [
        "y_pred = logistic_model.predict(x_test)\n",
        "log_accuracy =accuracy_score(y_test, y_pred)\n",
        "log_con_matrix = confusion_matrix(y_test, y_pred)\n",
        "log_re = classification_report(y_test, y_pred)"
      ],
      "metadata": {
        "id": "4tYxlUQi-76K"
      },
      "execution_count": null,
      "outputs": []
    },
    {
      "cell_type": "code",
      "source": [
        "print(f\"Logistic REgression Accuracy:\\n{log_accuracy}\")\n",
        "print(f\"Logistic Regression Confusion Matrix:\\n{log_con_matrix}\")\n",
        "print(f\"Logistic Regression Classification Report:\\n{log_re}\")"
      ],
      "metadata": {
        "id": "g561swFEDh6M"
      },
      "execution_count": null,
      "outputs": []
    },
    {
      "cell_type": "code",
      "source": [
        "#train decision tree model\n",
        "decision_tree_model = DecisionTreeClassifier()\n",
        "decision_tree_model.fit(x_train, y_train)"
      ],
      "metadata": {
        "id": "TJJQOJ-q_x2T"
      },
      "execution_count": null,
      "outputs": []
    },
    {
      "cell_type": "code",
      "source": [
        "y_pred_dt = decision_tree_model.predict(x_test)\n",
        "dt_accuracy = accuracy_score(y_test, y_pred_dt)\n",
        "dt_con_matrix = confusion_matrix(y_test, y_pred_dt)\n",
        "dt_re = classification_report(y_test, y_pred_dt)"
      ],
      "metadata": {
        "id": "zh3Dfx4u__QC"
      },
      "execution_count": null,
      "outputs": []
    },
    {
      "cell_type": "code",
      "source": [
        "print(f\"Decision Tree Accuracy:\\n {dt_accuracy}\")\n",
        "print(f\"Decision Tree Confusion Matrix:\\n {dt_con_matrix}\")\n",
        "print(f\"Decision Tree Classification Report:\\n {dt_re}\")\n"
      ],
      "metadata": {
        "id": "NX7J4JcaDqK1"
      },
      "execution_count": null,
      "outputs": []
    },
    {
      "cell_type": "code",
      "source": [
        "# save the model\n",
        "\n",
        "import joblib\n",
        "joblib.dump(logistic_model, 'logistic_model.joblib')\n",
        "joblib.dump(decision_tree_model, 'decision_tree_model.joblib')\n"
      ],
      "metadata": {
        "id": "ljXeoAYay7f4"
      },
      "execution_count": null,
      "outputs": []
    },
    {
      "cell_type": "code",
      "source": [
        "import pickle\n",
        "\n",
        "with open('logistic_model.pkl', 'wb') as file:\n",
        "    pickle.dump(logistic_model, file)\n",
        "\n",
        "with open('decision_tree_model.pkl', 'wb') as file:\n",
        "    pickle.dump(decision_tree_model, file)"
      ],
      "metadata": {
        "id": "TBsqJvKyUivN"
      },
      "execution_count": null,
      "outputs": []
    },
    {
      "cell_type": "code",
      "source": [
        "#load the model\n",
        "\n",
        "loaded_logre_model = joblib.load('logistic_model.joblib')\n",
        "loaded_dt_model = joblib.load('decision_tree_model.joblib')\n",
        "\n",
        "# use the model\n",
        "\n",
        "predictions_Logre = loaded_logre_model.predict(x_test)\n",
        "predictions_dt = loaded_dt_model.predict(x_test)"
      ],
      "metadata": {
        "id": "AHtvgTaRUuNY"
      },
      "execution_count": null,
      "outputs": []
    },
    {
      "cell_type": "code",
      "source": [
        "#using pickle:\n",
        "\n",
        "with open('logistic_model.pkl', 'rb') as file:\n",
        "    loaded_logre_model = pickle.load(file)\n",
        "\n",
        "with open('decision_tree_model.pkl', 'rb') as file:\n",
        "    loaded_dt_model = pickle.load(file)\n"
      ],
      "metadata": {
        "id": "B1zO8BSAVCSd"
      },
      "execution_count": null,
      "outputs": []
    },
    {
      "cell_type": "code",
      "source": [
        "#predictions:\n",
        "predictions_Logre = loaded_logre_model.predict(x_test)\n",
        "predictions_dt = loaded_dt_model.predict(x_test)"
      ],
      "metadata": {
        "id": "pQcYE6F7VLtP"
      },
      "execution_count": null,
      "outputs": []
    },
    {
      "cell_type": "code",
      "source": [
        "#deploying the model using flask API:\n",
        "\n",
        "from flask import Flask, request, jsonify\n",
        "import joblib\n",
        "\n",
        "app = Flask(__name__)\n",
        "\n",
        "#load the model\n",
        "\n",
        "model_logre = joblib.load('logistic_model.joblib')\n",
        "model_dt = joblib.load('decision_tree_model.joblib')\n",
        "\n",
        "@app.route('/predict', methods = ['POST'])\n",
        "def predict():\n",
        "  data = request.json\n",
        "  prediction_lr = model_logre.predict(data)\n",
        "\n",
        "  return jsonify({'prediction':prediction_lr.tolist()})\n",
        "\n",
        "\n",
        "if __name__ == '__main__':\n",
        "  app.run(debug =True)"
      ],
      "metadata": {
        "id": "pXwQg4mgVS-p"
      },
      "execution_count": null,
      "outputs": []
    }
  ]
}