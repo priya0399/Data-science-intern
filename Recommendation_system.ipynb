{
  "nbformat": 4,
  "nbformat_minor": 0,
  "metadata": {
    "colab": {
      "private_outputs": true,
      "provenance": []
    },
    "kernelspec": {
      "name": "python3",
      "display_name": "Python 3"
    },
    "language_info": {
      "name": "python"
    }
  },
  "cells": [
    {
      "cell_type": "code",
      "execution_count": null,
      "metadata": {
        "id": "7iVgGEcOd0k_"
      },
      "outputs": [],
      "source": [
        "import pandas as pd\n",
        "import matplotlib.pyplot as plt\n",
        "import seaborn as sns\n",
        "import numpy as np\n",
        "import warnings\n",
        "warnings.filterwarnings('ignore')"
      ]
    },
    {
      "cell_type": "code",
      "source": [
        "df = pd.read_csv('/content/fashion_products.csv')\n",
        "df.head(10)"
      ],
      "metadata": {
        "id": "dmnQc6bmUGLl"
      },
      "execution_count": null,
      "outputs": []
    },
    {
      "cell_type": "code",
      "source": [
        "df.shape"
      ],
      "metadata": {
        "id": "tokZnGF8bW9a"
      },
      "execution_count": null,
      "outputs": []
    },
    {
      "cell_type": "code",
      "source": [
        "df.info()"
      ],
      "metadata": {
        "id": "JPz2_1LMbYH4"
      },
      "execution_count": null,
      "outputs": []
    },
    {
      "cell_type": "code",
      "source": [
        "df.isnull().sum()"
      ],
      "metadata": {
        "id": "kbFO2dDGbdNs"
      },
      "execution_count": null,
      "outputs": []
    },
    {
      "cell_type": "code",
      "source": [
        "from sklearn.feature_extraction.text import TfidfVectorizer\n",
        "\n",
        "# Vectorize product descriptions\n",
        "vectorizer = TfidfVectorizer(stop_words='english')\n",
        "tfidf_matrix = vectorizer.fit_transform(df['Product Name'])\n",
        "\n"
      ],
      "metadata": {
        "id": "OjhHl2djj3wI"
      },
      "execution_count": null,
      "outputs": []
    },
    {
      "cell_type": "code",
      "source": [
        "# Normalization using MinMaxScaler\n",
        "from sklearn.preprocessing import MinMaxScaler\n",
        "scaler = MinMaxScaler()\n",
        "numerical_features = ['Price','Rating']\n",
        "\n",
        "df[numerical_features] = scaler.fit_transform(df[numerical_features])"
      ],
      "metadata": {
        "id": "BXSsKw6ObcF_"
      },
      "execution_count": null,
      "outputs": []
    },
    {
      "cell_type": "code",
      "source": [
        "#one hot encoding\n",
        "\n",
        "from sklearn.preprocessing import OneHotEncoder\n",
        "en = OneHotEncoder()\n",
        "categorical_features = en.fit_transform(df[['Category','Brand']])\n"
      ],
      "metadata": {
        "id": "oU9fkREEbhKa"
      },
      "execution_count": null,
      "outputs": []
    },
    {
      "cell_type": "code",
      "source": [
        "feature_matrix = np.hstack((categorical_features.toarray(), df[numerical_features].values))"
      ],
      "metadata": {
        "id": "4L0AbIrAfu1U"
      },
      "execution_count": null,
      "outputs": []
    },
    {
      "cell_type": "code",
      "source": [
        "from sklearn.metrics.pairwise import cosine_similarity\n",
        "\n",
        "cosine_sim= cosine_similarity(feature_matrix)"
      ],
      "metadata": {
        "id": "050J0SOGjVQ5"
      },
      "execution_count": null,
      "outputs": []
    },
    {
      "cell_type": "code",
      "source": [
        "def recommend(product_id, cosine_sim=cosine_sim):\n",
        "    idx = df[df['Product ID'] == product_id].index[0]\n",
        "    sim_scores = list(enumerate(cosine_sim[idx]))\n",
        "    sim_scores = sorted(sim_scores, key=lambda x: x[1], reverse=True)\n",
        "    top_items = [df.iloc[i[0]]['Product ID'] for i in sim_scores[1:6]]  # Top 5\n",
        "    return top_items"
      ],
      "metadata": {
        "id": "DjxYUSEO-lfC"
      },
      "execution_count": null,
      "outputs": []
    },
    {
      "cell_type": "code",
      "source": [
        "eg_product_id = df['Product ID'].iloc[0]\n",
        "\n",
        "#get recommendations\n",
        "recommended_products = recommend(eg_product_id)\n",
        "print(f\"Recommendations for Products {eg_product_id}: {recommended_products}\")"
      ],
      "metadata": {
        "id": "-fQd_spV_Aig"
      },
      "execution_count": null,
      "outputs": []
    },
    {
      "cell_type": "code",
      "source": [
        "## Evaluation REcommendation\n",
        "from sklearn.model_selection import train_test_split\n",
        "\n",
        "train_data, test_data = train_test_split(df, test_size=0.3, random_state=42)\n"
      ],
      "metadata": {
        "id": "IDOyDhqq_e12"
      },
      "execution_count": null,
      "outputs": []
    },
    {
      "cell_type": "code",
      "source": [
        "# precision@k\n",
        "def precision_at_k(recommended_items, actual_items, k=5):\n",
        "  relevant_items =set(recommended_items[:k]) & set(actual_items)\n",
        "  return len(relevant_items) / k\n",
        "\n",
        "user_actual_items = test_data[test_data['User ID'] ==1]['Product ID'].tolist()\n",
        "user_recommended_items = recommend(product_id =1000)\n",
        "precision = precision_at_k(user_recommended_items, user_actual_items, k=5)\n",
        "print(f\"Precision@5: {precision}\")"
      ],
      "metadata": {
        "id": "FtDiCSbBFkc6"
      },
      "execution_count": null,
      "outputs": []
    },
    {
      "cell_type": "code",
      "source": [
        "def recall_at_k(recommended_items, actual_items, k=5):\n",
        "    relevant_items = set(recommended_items[:k]) & set(actual_items)\n",
        "    return len(relevant_items) / len(actual_items)\n",
        "\n",
        "recall = recall_at_k(user_recommended_items, user_actual_items, k=5)\n",
        "print(f\"Recall@5: {recall}\")"
      ],
      "metadata": {
        "id": "JXCCc8qdH6us"
      },
      "execution_count": null,
      "outputs": []
    },
    {
      "cell_type": "code",
      "source": [
        "def coverage(recommendations, all_items):\n",
        "    unique_recommendations = set(recommendations)\n",
        "    return len(unique_recommendations) / len(all_items)\n",
        "\n",
        "all_items = df['Product ID'].unique()\n",
        "coverage_score = coverage(recommended_products, all_items)\n",
        "print(f\"Coverage: {coverage_score}\")"
      ],
      "metadata": {
        "id": "BL2FHUs2H9sA"
      },
      "execution_count": null,
      "outputs": []
    },
    {
      "cell_type": "code",
      "source": [],
      "metadata": {
        "id": "a_WnQe0vIHns"
      },
      "execution_count": null,
      "outputs": []
    }
  ]
}