{
  "nbformat": 4,
  "nbformat_minor": 0,
  "metadata": {
    "colab": {
      "private_outputs": true,
      "provenance": []
    },
    "kernelspec": {
      "name": "python3",
      "display_name": "Python 3"
    },
    "language_info": {
      "name": "python"
    }
  },
  "cells": [
    {
      "cell_type": "code",
      "execution_count": null,
      "metadata": {
        "id": "17yFoNxYAN78"
      },
      "outputs": [],
      "source": [
        "import pandas as pd"
      ]
    },
    {
      "cell_type": "code",
      "source": [
        "df = pd.read_csv(\"/content/BigMart Sales Data.csv\")"
      ],
      "metadata": {
        "id": "dTYP0VvmTnIq"
      },
      "execution_count": null,
      "outputs": []
    },
    {
      "cell_type": "code",
      "source": [
        "df.head()"
      ],
      "metadata": {
        "id": "B5ScffL7Ts4f"
      },
      "execution_count": null,
      "outputs": []
    },
    {
      "cell_type": "code",
      "source": [
        "df.drop(['Item_Identifier', 'Outlet_Identifier'], axis =1, inplace=True)"
      ],
      "metadata": {
        "id": "NNYQVuTFb4Oz"
      },
      "execution_count": null,
      "outputs": []
    },
    {
      "cell_type": "code",
      "source": [
        "df.info()"
      ],
      "metadata": {
        "id": "dB7bqE_fTuiS"
      },
      "execution_count": null,
      "outputs": []
    },
    {
      "cell_type": "code",
      "source": [
        "df.columns"
      ],
      "metadata": {
        "id": "YSQvHHi8Vjhh"
      },
      "execution_count": null,
      "outputs": []
    },
    {
      "cell_type": "markdown",
      "source": [
        "##Handling Missing values"
      ],
      "metadata": {
        "id": "qfCyMt_5WUBN"
      }
    },
    {
      "cell_type": "code",
      "source": [
        "df.isnull().sum()"
      ],
      "metadata": {
        "id": "M6upt18xVzCY"
      },
      "execution_count": null,
      "outputs": []
    },
    {
      "cell_type": "code",
      "source": [
        "df['Item_Weight'].fillna(df['Item_Weight'].mean(), inplace=True)"
      ],
      "metadata": {
        "id": "vRJDLaK0V2D2"
      },
      "execution_count": null,
      "outputs": []
    },
    {
      "cell_type": "code",
      "source": [
        "df['Outlet_Size'].fillna(df['Outlet_Size'].mode()[0], inplace=True)"
      ],
      "metadata": {
        "id": "2NyTXJ56WcVn"
      },
      "execution_count": null,
      "outputs": []
    },
    {
      "cell_type": "code",
      "source": [
        "df.isnull().sum()"
      ],
      "metadata": {
        "id": "qzibTd6YWgz3"
      },
      "execution_count": null,
      "outputs": []
    },
    {
      "cell_type": "code",
      "source": [
        "df.describe()"
      ],
      "metadata": {
        "id": "wTPFsw47XWXv"
      },
      "execution_count": null,
      "outputs": []
    },
    {
      "cell_type": "markdown",
      "source": [
        "## Convert categorical features into numerical features."
      ],
      "metadata": {
        "id": "CG4bNCouWmhc"
      }
    },
    {
      "cell_type": "code",
      "source": [
        "df.info()"
      ],
      "metadata": {
        "id": "z4YSozyvYxO-"
      },
      "execution_count": null,
      "outputs": []
    },
    {
      "cell_type": "code",
      "source": [
        "# one-hot encoding for nominal data\n",
        "one_hot_encoded_data = pd.get_dummies(df,columns = ['Item_Fat_Content', \"Item_Type\",'Outlet_Location_Type','Outlet_Type'], drop_first=True)"
      ],
      "metadata": {
        "id": "CU9AEkKTWkLF"
      },
      "execution_count": null,
      "outputs": []
    },
    {
      "cell_type": "code",
      "source": [
        "one_hot_encoded_data.head()"
      ],
      "metadata": {
        "id": "GID94urqYayA"
      },
      "execution_count": null,
      "outputs": []
    },
    {
      "cell_type": "code",
      "source": [
        "#label encoding for ordinal features\n",
        "from sklearn.preprocessing import LabelEncoder\n",
        "le = LabelEncoder()\n",
        "one_hot_encoded_data['Outlet_Size'] = le.fit_transform(one_hot_encoded_data['Outlet_Size'])"
      ],
      "metadata": {
        "id": "udF_EXFfaUbm"
      },
      "execution_count": null,
      "outputs": []
    },
    {
      "cell_type": "code",
      "source": [
        "one_hot_encoded_data.head()"
      ],
      "metadata": {
        "id": "weSR36WmYg1R"
      },
      "execution_count": null,
      "outputs": []
    },
    {
      "cell_type": "code",
      "source": [
        "# scaling the numerical features\n",
        "from sklearn.preprocessing import StandardScaler\n",
        "scaler = StandardScaler()\n",
        "one_hot_encoded_data['Item_Weight'] = scaler.fit_transform(one_hot_encoded_data[['Item_Weight']])\n",
        "one_hot_encoded_data['Item_Visibility'] = scaler.fit_transform(one_hot_encoded_data[['Item_Visibility']])\n",
        "one_hot_encoded_data['Item_MRP'] = scaler.fit_transform(one_hot_encoded_data[['Item_MRP']])"
      ],
      "metadata": {
        "id": "VPftJXLaXqDR"
      },
      "execution_count": null,
      "outputs": []
    },
    {
      "cell_type": "code",
      "source": [
        "one_hot_encoded_data.head()"
      ],
      "metadata": {
        "id": "RBeFSBjLdNzU"
      },
      "execution_count": null,
      "outputs": []
    },
    {
      "cell_type": "code",
      "source": [
        "from sklearn.model_selection import train_test_split\n",
        "from sklearn.linear_model import LinearRegression\n",
        "from sklearn.ensemble import RandomForestRegressor\n",
        "from sklearn.metrics import mean_absolute_error, mean_squared_error, r2_score\n",
        "import numpy as np"
      ],
      "metadata": {
        "id": "Rm0egJtHeAOh"
      },
      "execution_count": null,
      "outputs": []
    },
    {
      "cell_type": "code",
      "source": [
        "x = one_hot_encoded_data.drop('Item_Outlet_Sales', axis=1)\n",
        "y = one_hot_encoded_data['Item_Outlet_Sales']"
      ],
      "metadata": {
        "id": "N_3CXD6csS33"
      },
      "execution_count": null,
      "outputs": []
    },
    {
      "cell_type": "code",
      "source": [
        "x_train, x_text, y_train, y_text = train_test_split(x,y, test_size = 0.2, random_state = 42)\n"
      ],
      "metadata": {
        "id": "S6dkQZLesgC0"
      },
      "execution_count": null,
      "outputs": []
    },
    {
      "cell_type": "code",
      "source": [
        "lr = LinearRegression()\n",
        "rf = RandomForestRegressor(random_state = 42)"
      ],
      "metadata": {
        "id": "wcpBeOcKswg3"
      },
      "execution_count": null,
      "outputs": []
    },
    {
      "cell_type": "code",
      "source": [
        "lr.fit(x_train, y_train)\n",
        "rf.fit(x_train, y_train)"
      ],
      "metadata": {
        "id": "Nn7dSFduswSn"
      },
      "execution_count": null,
      "outputs": []
    },
    {
      "cell_type": "markdown",
      "source": [
        "## Prediction and Evaluation"
      ],
      "metadata": {
        "id": "FfXkZqXOznO6"
      }
    },
    {
      "cell_type": "code",
      "source": [
        "y_pred_lr = lr.predict(x_text)\n",
        "y_pred_rf = rf.predict(x_text)"
      ],
      "metadata": {
        "id": "owjBajYNteva"
      },
      "execution_count": null,
      "outputs": []
    },
    {
      "cell_type": "code",
      "source": [
        "def evaluate_model(y_true, y_pred):\n",
        "  mae = mean_absolute_error(y_true, y_pred)\n",
        "  mse = mean_absolute_error(y_true, y_pred)\n",
        "  rmse =  np.sqrt(mse)\n",
        "  r2 = r2_score(y_text, y_pred)\n",
        "  return mae,mse, rmse, r2\n",
        "\n",
        "# Linear regression evaluation\n",
        "mae_lr, mse_lr, rmse_lr,r2_lr = evaluate_model(y_text, y_pred_lr)\n",
        "print(\"Linear Regression:\")\n",
        "print(f\"MAE: {mae_lr:.2f}, MSE: {mse_lr:.2f}, RMSE: {rmse_lr:.2f}, R2 Score: {r2_lr:.2f}\")\n",
        "\n",
        "# Random Forest Evaluation\n",
        "mae_rf, mse_rf, rmse_rf, r2_rf = evaluate_model(y_text, y_pred_rf)\n",
        "print(\"\\nRandom Forest:\")\n",
        "print(f\"MAE: {mae_rf:.2f}, MSE: {mse_rf:.2f}, RMSE: {rmse_rf:.2f}, R2 Score: {r2_rf:2f}\")\n",
        "\n"
      ],
      "metadata": {
        "id": "8j5Jbm1-uEeL"
      },
      "execution_count": null,
      "outputs": []
    }
  ]
}